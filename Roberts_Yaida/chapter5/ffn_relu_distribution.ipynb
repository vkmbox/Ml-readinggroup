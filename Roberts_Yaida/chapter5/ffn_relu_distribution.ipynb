{
 "cells": [
  {
   "cell_type": "markdown",
   "id": "a27ba114",
   "metadata": {},
   "source": [
    "FFN output distribution for input gaussian-distributed coefficients"
   ]
  },
  {
   "cell_type": "code",
   "execution_count": 1,
   "id": "c6fc248e",
   "metadata": {},
   "outputs": [],
   "source": [
    "import math\n",
    "import numpy as np\n",
    "import torch\n",
    "from torch import Tensor\n",
    "import torch.nn as nn"
   ]
  },
  {
   "cell_type": "markdown",
   "id": "1947e907",
   "metadata": {},
   "source": [
    "***\n",
    "In the following example a FFN with Relu activation is studying. Input data is an array ${xx}$ of size ${n_0}$ x ${n_d}$, ${n_0}$ - input data dimension and ${n_d}$ - number of points in trainset. A series of ${experiments\\_number}$ experiments is performed, each one generating FFN weights from a distribution at criticality. Output data is an array ${yy}$ of size ${experiments\\_number}$ x ${n_l}$ x ${n_d}$, where ${n_l}$ - output data dimension.\n",
    "***"
   ]
  },
  {
   "cell_type": "code",
   "execution_count": 2,
   "id": "3ad4dcff",
   "metadata": {},
   "outputs": [],
   "source": [
    "def sample_covariance(neuron_one, trainpoint_one, neuron_two, trainpoint_two, yy):\n",
    "    '''Sample covariance, formulas as in https://en.wikipedia.org/wiki/Sample_mean_and_covariance'''\n",
    "    one = yy[:, neuron_one-1, trainpoint_one-1]\n",
    "    two = yy[:, neuron_two-1, trainpoint_two-1]\n",
    "    nn, mean_one, mean_two, sum = len(one), np.mean(one), np.mean(two), 0.0\n",
    "    for pos in range(nn):\n",
    "        sum += (one[pos]-mean_one)*(two[pos]-mean_two)\n",
    "\n",
    "    return sum/(nn - 1)\n",
    "\n",
    "def K_xx(trainpoint_one, trainpoint_two, cw, xx):\n",
    "    '''Metric (4.8) calculation'''\n",
    "    one, two = xx[:,trainpoint_one-1],xx[:,trainpoint_two-1]\n",
    "    nn, sum = len(one), 0.0\n",
    "    for pos in range(nn):\n",
    "        sum += one[pos]*two[pos]\n",
    "\n",
    "    return sum*cw/nn"
   ]
  },
  {
   "cell_type": "code",
   "execution_count": 3,
   "id": "ef7fa85e",
   "metadata": {},
   "outputs": [],
   "source": [
    "class FeedForwardNet(nn.Module):\n",
    "\n",
    "    def __init__(self, n0=3, nk=10, nl=3, l=3, bias_on=False):\n",
    "        '''n0: # dimension of x\n",
    "           nk: # hidden nodes\n",
    "           nl: # dimension of y\n",
    "           l: # number of layers\n",
    "           bias_on: # whether bias is included into linear preactivations'''\n",
    "        super().__init__()\n",
    "        self.n0=n0\n",
    "        self.nk=nk\n",
    "        self.nl=nl\n",
    "        self.bias_on = bias_on\n",
    "        self.log_level = None\n",
    "        self.linears = []\n",
    "        print(\"FeedForwardNet created with n0={}, nk={}, nl={}, l={}, bias_on={}\".format(n0, nk, nl, l, bias_on))\n",
    "\n",
    "        self.linears.append(nn.Linear(n0, nk, bias=bias_on))\n",
    "        if l > 2:\n",
    "            for _ in range(2, l):\n",
    "                self.linears.append(nn.Linear(nk, nk, bias=bias_on))\n",
    "        if l > 1:\n",
    "            self.linears.append(nn.Linear(nk, nl, bias=bias_on))\n",
    "\n",
    "    def set_log_level(self, value):\n",
    "        self.log_level = value\n",
    "\n",
    "    def get_log_level(self):\n",
    "        if self.log_level in (\"debug\", \"info\", \"warning\", \"error\"):\n",
    "            return self.log_level\n",
    "        else:\n",
    "            return \"info\"\n",
    "\n",
    "    def init_weights(self, cb=1.0, cw=1.0):\n",
    "        if self.get_log_level() == \"debug\":\n",
    "            print(\"FeedForwardNet weights initialised with cb={}, cw={}\".format(cb, cw))\n",
    "\n",
    "        #Weight initialisation as in 2.19, 2.20\n",
    "        n_prev = self.n0\n",
    "        for linear in self.linears:\n",
    "            nn.init.normal_(linear.weight, mean = 0., std = math.sqrt(cw/n_prev))\n",
    "            n_prev = linear.weight.size()[0]\n",
    "            if self.bias_on:\n",
    "                nn.init.normal_(linear.bias, mean = 0., std = math.sqrt(cb))\n",
    "\n"
   ]
  },
  {
   "cell_type": "markdown",
   "id": "1877499d",
   "metadata": {},
   "source": [
    "FFN with PReLU(slope_positive, slope_negative); "
   ]
  },
  {
   "cell_type": "code",
   "execution_count": 4,
   "id": "3710c20c",
   "metadata": {},
   "outputs": [],
   "source": [
    "class ParametricReLUNet(FeedForwardNet):\n",
    "    def __init__(self, n0=3, nk=10, nl=3, l=3, bias_on=False):\n",
    "        super().__init__(n0, nk, nl, l, bias_on)\n",
    "        self.slope_positive = None\n",
    "        self.slope_negative = None\n",
    "\n",
    "    def set_slopes(self, slope_positive = 1.0, slope_negative = 0.25):\n",
    "        self.slope_positive = slope_positive\n",
    "        self.slope_negative = slope_negative\n",
    "\n",
    "    def PReLU(self, input: Tensor) -> Tensor:\n",
    "        for pos in range(input.size(dim=0)):\n",
    "            input[pos] = input[pos] * (self.slope_positive if input[pos] >= 0 else self.slope_negative)\n",
    "        return input\n",
    "\n",
    "    def forward(self, xx):\n",
    "        if self.slope_positive == None:\n",
    "            raise Exception(\"To use forward set slopes with call ParametricReLUNet.set_slopes(...)\")\n",
    "\n",
    "        zk = torch.tensor(xx.transpose(), dtype=torch.float32)\n",
    "        for linear in self.linears:\n",
    "            zk = linear(zk)\n",
    "            zk = self.PReLU(zk)\n",
    "        return zk.detach().numpy().transpose()"
   ]
  },
  {
   "cell_type": "code",
   "execution_count": 6,
   "id": "adc6609d",
   "metadata": {},
   "outputs": [
    {
     "name": "stdout",
     "output_type": "stream",
     "text": [
      "FeedForwardNet created with n0=3, nk=10, nl=3, l=3, bias_on=False\n",
      "tensor([ 0.5500, -0.4400])\n"
     ]
    }
   ],
   "source": [
    "#Test for PReLU-activation implementation\n",
    "\n",
    "testPReLU = ParametricReLUNet()\n",
    "testPReLU.set_slopes(0.5, 0.2)\n",
    "resultPReLU = testPReLU.PReLU(torch.tensor(np.array([1.1,-2.2]), dtype=torch.float32))\n",
    "print(resultPReLU)\n"
   ]
  },
  {
   "cell_type": "code",
   "execution_count": 13,
   "id": "1b14d230",
   "metadata": {},
   "outputs": [
    {
     "name": "stdout",
     "output_type": "stream",
     "text": [
      "FeedForwardNet created with n0=3, nk=10000, nl=2, l=10, bias_on=False\n"
     ]
    }
   ],
   "source": [
    "'''n0: # dimension of x\n",
    "    nk: # hidden nodes\n",
    "    nl: # dimension of y\n",
    "    l: # number of layers\n",
    "    nd: # number of points in train-set'''\n",
    "n0,nk,nl,l=3,10000,2,10\n",
    "nd = 2\n",
    "'''slope_plus, slope_minus: # slopes for Relu\n",
    "    experiments_number: # number of experiments'''\n",
    "slope_plus, slope_minus=1.0, 0.5\n",
    "experiments_number = 20\n",
    "\n",
    "testNet = ParametricReLUNet(n0=n0,nk=nk,nl=nl,l=l)\n",
    "testNet.set_log_level(\"info\")\n",
    "testNet.set_slopes(slope_plus, slope_minus)\n",
    "xx = np.random.normal(size=(n0, nd)).astype(np.float32)\n",
    "yy = np.zeros((experiments_number, nl, nd))\n",
    "cw= 2.0/(slope_plus**2.0 + slope_minus**2.0)\n",
    "\n",
    "#for each experiment re-initialisation of the weights with recalculation\n",
    "for experiment_number in range(experiments_number):\n",
    "    #weights distribution is initialisied as in (5.67)\n",
    "    testNet.init_weights(0, cw)\n",
    "    for col in range(nd):\n",
    "        res = testNet.forward(xx[:,col])\n",
    "        for row in range(nl):\n",
    "            yy[experiment_number,row,col] = res[row]\n",
    "\n",
    "#print(\"xx:\", xx)\n",
    "#print(\"yy:\", yy)"
   ]
  },
  {
   "cell_type": "code",
   "execution_count": 14,
   "id": "68c0c5c4",
   "metadata": {},
   "outputs": [
    {
     "name": "stdout",
     "output_type": "stream",
     "text": [
      "Sample covariance between neuron 1, trainpoint 1 and neuron 1, trainpoint 1: 0.9736863167494237\n",
      "Sample covariance between neuron 1, trainpoint 1 and neuron 1, trainpoint 2: 1.758835041209648\n",
      "Sample covariance between neuron 1, trainpoint 2 and neuron 1, trainpoint 2: 6.27316877308968\n",
      "Sample covariance between neuron 1, trainpoint 1 and neuron 2, trainpoint 1: 0.012130154209039306\n",
      "Sample covariance between neuron 1, trainpoint 1 and neuron 2, trainpoint 2: -0.3507023977958151\n",
      "Sample covariance between neuron 1, trainpoint 2 and neuron 2, trainpoint 1: -0.11084808727733036\n",
      "Sample covariance between neuron 1, trainpoint 2 and neuron 2, trainpoint 2: -0.624781140660716\n",
      "Sample covariance between neuron 2, trainpoint 1 and neuron 2, trainpoint 1: 0.4404177515623559\n",
      "Sample covariance between neuron 2, trainpoint 1 and neuron 2, trainpoint 2: -0.100767094206183\n",
      "Sample covariance between neuron 2, trainpoint 2 and neuron 2, trainpoint 2: 6.4418267750269615\n"
     ]
    }
   ],
   "source": [
    "for neuron1 in range(1, nl+1):\n",
    "      for neuron2 in range(neuron1, nl+1):\n",
    "            for trainpoint1 in range(1, nd+1):\n",
    "                  for trainpoint2 in range(1 if neuron1 != neuron2 else trainpoint1, nd+1):\n",
    "                        print(\"Sample covariance between neuron {}, trainpoint {} and neuron {}, trainpoint {}: {}\"\\\n",
    "                              .format(neuron1, trainpoint1, neuron2, trainpoint2\\\n",
    "                                      , sample_covariance(neuron1,trainpoint1,neuron2,trainpoint2,yy)))\n"
   ]
  },
  {
   "cell_type": "code",
   "execution_count": 15,
   "id": "5f1f3877",
   "metadata": {},
   "outputs": [
    {
     "name": "stdout",
     "output_type": "stream",
     "text": [
      "Metric (4.8) for trainpoint 1 and trainpoint 1: 1.1942569692929588\n",
      "Metric (4.8) for trainpoint 1 and trainpoint 2: -0.5999009450276693\n",
      "Metric (4.8) for trainpoint 2 and trainpoint 2: 6.032336298624674\n"
     ]
    }
   ],
   "source": [
    "for trainpoint1 in range(1, nd+1):\n",
    "    for trainpoint2 in range(trainpoint1, nd+1):\n",
    "        print(\"Metric (4.8) for trainpoint {} and trainpoint {}: {}\"\\\n",
    "              .format(trainpoint1, trainpoint2, K_xx(trainpoint1, trainpoint2, cw, xx)))\n"
   ]
  }
 ],
 "metadata": {
  "kernelspec": {
   "display_name": "Python 3",
   "language": "python",
   "name": "python3"
  },
  "language_info": {
   "codemirror_mode": {
    "name": "ipython",
    "version": 3
   },
   "file_extension": ".py",
   "mimetype": "text/x-python",
   "name": "python",
   "nbconvert_exporter": "python",
   "pygments_lexer": "ipython3",
   "version": "3.9.12"
  }
 },
 "nbformat": 4,
 "nbformat_minor": 5
}
